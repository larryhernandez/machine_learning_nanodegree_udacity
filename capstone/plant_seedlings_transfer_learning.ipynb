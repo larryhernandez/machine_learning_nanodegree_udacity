{
 "cells": [
  {
   "cell_type": "markdown",
   "metadata": {},
   "source": [
    "# Machine Learning Nanodegree\n",
    "\n",
    "## Transfer Learning for Image Classification\n",
    "\n",
    "## Capstone Project: Write an Algorithm to Classify Plant Seedlings\n",
    "\n",
    "\n",
    "### Motivation \n",
    "\n",
    "In this notebook, I will develop an algorithm that classifies plant seedlings into one of twelve categories. This project is inspired by the Kaggle Competition entitled [Plant Seedlings Classification](https://www.kaggle.com/c/plant-seedlings-classification). Kaggle community members are challenged to develop algorithms that categorize images of plant seedlings into one of twelve classes. Some classes correspond to valuable crops and the rest correspond to (invaluable) weeds, which compete with crops for the same agricultural resources. If weeds are identified at an early growth stage—when they are seedlings—they can be physically removed, which then gives crops increased chances of prospering since they will not need to compete with the weeds for life-sustaining resources. Consequently, an effective image classifier installed on a smart phone can help farmers keep their plots (mostly) free of weeds, perhaps ultimately leading to increased crop yields.\n",
    "\n",
    "![Sample Plant Output](images/0bdaf1d8f.png)\n",
    "\n",
    "\n",
    "### Project Outline\n",
    "\n",
    "The notebook is divided into separate steps. The links below are useful for navigating the notebook.\n",
    "\n",
    "* [Step 1](#step1): Import Datasets\n",
    "* [Step 2](#step2): Data Processing\n",
    "* [Step 3](#step3): Benchmark Model: a simple ConvNet made from scratch\n",
    "* [Step 4](#step4): Transfer Learning with VGG19 to develop a ConvNet.\n",
    "* [Step 5](#step5): Final Model Evaluation\n",
    "\n",
    "<a id='step1'></a>\n",
    "## Step 1: Import Datasets\n",
    "\n",
    "### Import Plant Dataset\n",
    "\n",
    "In the code cell below, the full dataset of plant images is imported. The data set is rather small having only 4,750 images in total for 12 classes.  The names of these plant classes are displayed as well. \n",
    "\n",
    "The following variables were used to store training, validation, and test data.\n",
    "- `train_files`, `valid_files`, `test_files` - numpy arrays containing file paths to images\n",
    "- `train_targets`, `valid_targets`, `test_targets` - numpy arrays containing onehot-encoded classification labels \n",
    "import keras- `plant_names` - list of string-valued dog breed names for translating labels"
   ]
  },
  {
   "cell_type": "code",
   "execution_count": 2,
   "metadata": {},
   "outputs": [
    {
     "name": "stdout",
     "output_type": "stream",
     "text": [
      "There are 12 total plant categories.\n",
      "There are 4750 plant images.\n",
      "The plant names are: \n",
      "['Black-grass', 'Charlock', 'Cleavers', 'Common Chickweed', 'Common wheat', 'Fat Hen', 'Loose Silky-bent', 'Maize', 'Scentless Mayweed', 'Shepherds Purse', 'Small-flowered Cranesbill', 'Sugar beet']\n"
     ]
    }
   ],
   "source": [
    "import sys\n",
    "from importlib import reload\n",
    "from sklearn.datasets import load_files\n",
    "from keras.utils import np_utils\n",
    "import numpy as np\n",
    "from glob import glob\n",
    "\n",
    "# Add user-defined functions to path\n",
    "sys.path.insert(0, 'auxiliary_functions')\n",
    "\n",
    "# define function to load the image data\n",
    "def load_dataset(path, numClasses = 12):\n",
    "    data = load_files(path)\n",
    "    plant_files = np.array(data['filenames'])\n",
    "    plant_targets = np_utils.to_categorical(np.array(data['target']), numClasses)\n",
    "    return plant_files, plant_targets\n",
    "\n",
    "# load the data\n",
    "numPlantClasses = 12\n",
    "plant_files, plant_targets = load_dataset('plantImages/fullDataSet/train/', numPlantClasses)\n",
    "\n",
    "# load list of plant names\n",
    "plant_names = [item[30:-1] for item in sorted(glob(\"plantImages/fullDataSet/train/*/\"))]\n",
    "\n",
    "# Print basic statistics about the data set\n",
    "print('There are %d total plant categories.' % len(plant_names))\n",
    "print('There are %d plant images.' % len(plant_files))\n",
    "print('The plant names are: ')\n",
    "print(plant_names)"
   ]
  },
  {
   "cell_type": "markdown",
   "metadata": {},
   "source": [
    "<a id='step2'></a>\n",
    "## Step 2: Data Processing"
   ]
  },
  {
   "cell_type": "markdown",
   "metadata": {},
   "source": [
    "### Remove outliers manually\n",
    "A comprehensive review of the plant images reveals that some should be excluded from this project. Some images are too blurry to warrant a realistic categorization, while others do not even contain a plant. The images that will be removed from the project are listed in the code cell below."
   ]
  },
  {
   "cell_type": "code",
   "execution_count": 3,
   "metadata": {},
   "outputs": [],
   "source": [
    "# After manual assessment of image quality, these images were deemed inadequate for reliable use in this project.\n",
    "\n",
    "def remove_outliers(plantFiles, targets):\n",
    "    ''' Removes images that may degrade training. '''\n",
    "    \n",
    "    # Folder containing all images\n",
    "    parentFolder = 'plantImages/fullDataSet/train'\n",
    "        \n",
    "    # The first 3 photos definitely do NOT contain the plant seedling or portion thereof.\n",
    "    # The remaining photos are blurry enough to warrant removal.\n",
    "    files2remove =     {'CommonChickweed': ['145b9d73c'],\n",
    "                        \n",
    "                        'Loose Silky-bent': ['e26600777'],\n",
    "                        \n",
    "                        'Sugar beet':['108770d27'],\n",
    "                        \n",
    "                        'Common wheat': ['0ec23ca76', '01a2ae45e', '1a9a859c9', '1a5243aa7',\n",
    "                                         '2d59da822', '2e7881f74', '6e083d6ff', '8d664b2b6',\n",
    "                                         '9bcfd14d6', '9efa077b7', '11b88da7c', '23c21923f',\n",
    "                                         '060e8f499', '68c176337', '71c7dd2a2', '75d126b6e',\n",
    "                                         '93b577009', '975d39600', '2163a30d4', '1478bcfcd',\n",
    "                                         '2463a30d4', '9933db289', '872174e0f', 'a04fbc0cd',\n",
    "                                         'a9bda6650', 'a300eb8b2', 'aea5d6bb9', 'ca5707e7b',\n",
    "                                         'cf0197941', 'd174ffbad', 'e475abfde', 'ebddbe41a'],\n",
    "\n",
    "                        'Loose Silky-bent': ['6c4d469c8', '972c2c8f7', 'f6439330f', 'fe944dee4', 'ff1f224a5'],\n",
    "                        \n",
    "                        'Maize':        ['0f16cf10a', '3cb4f2c65','4f6b0dc39', '59f972ef4', \n",
    "                                         '69f06fcbc', '269a34bb9', '0419f5bbc', '822d1163b', \n",
    "                                         '5675e608c'],\n",
    "                        \n",
    "                        'Scentless Mayweed': ['31bfdd75e', '6132624ad', 'ce3bee65a', 'e4f5d3cf6']\n",
    "                       }\n",
    "    \n",
    "    # Loop through the dictionary and remove the files\n",
    "    for key, x in files2remove.items():\n",
    "        for digits in x:\n",
    "            #file_to_exclude = parentFolder + '\\\\' + key + '\\\\' + digits + '.png'  #syntax for running on Windows\n",
    "            file_to_exclude = parentFolder + '/' + key + '/' + digits + '.png'     #syntax for running on Linux\n",
    "            itemindex = np.where(plantFiles == file_to_exclude)\n",
    "            #print(file_to_exclude)\n",
    "            #print(\"\")\n",
    "            plantFiles = np.delete(plantFiles, itemindex)\n",
    "            targets = np.delete(targets, itemindex, axis = 0)\n",
    "    return plantFiles, targets"
   ]
  },
  {
   "cell_type": "code",
   "execution_count": 4,
   "metadata": {},
   "outputs": [],
   "source": [
    "plant_files, plant_targets = remove_outliers(plant_files, plant_targets)"
   ]
  },
  {
   "cell_type": "markdown",
   "metadata": {},
   "source": [
    "To confirm that the images were excluded from the data set, print their size / shape:"
   ]
  },
  {
   "cell_type": "code",
   "execution_count": 5,
   "metadata": {},
   "outputs": [
    {
     "name": "stdout",
     "output_type": "stream",
     "text": [
      "Shape of images is  (4701,)  and shape of targets data is  (4701, 12)\n"
     ]
    }
   ],
   "source": [
    "print(\"Shape of images is \", plant_files.shape, \" and shape of targets data is \", plant_targets.shape)"
   ]
  },
  {
   "cell_type": "markdown",
   "metadata": {},
   "source": [
    "### Split the Images into Model Development and Test Sets\n",
    "The data will be split into two main groups: 80% for model development and 20% for final evaluation. The set for model development will be further subdivided into a training and validation set."
   ]
  },
  {
   "cell_type": "code",
   "execution_count": 6,
   "metadata": {},
   "outputs": [
    {
     "name": "stdout",
     "output_type": "stream",
     "text": [
      "There are 3760 images for training and validation.\n",
      "There are 940 images for testing.\n"
     ]
    }
   ],
   "source": [
    "from sklearn.model_selection import train_test_split\n",
    "\n",
    "# Split plant_files into train_files, valid_files, and test_files. Write them to file\n",
    "randState = 0  # for reproducibility\n",
    "alltrain_files, test_files, alltrain_targets, test_targets = train_test_split(\n",
    "                                                                              plant_files, \n",
    "                                                                              plant_targets, \n",
    "                                                                              test_size = 0.20, \n",
    "                                                                              random_state = randState,\n",
    "                                                                              stratify = plant_targets)\n",
    "# Remove one of the test files to have an even number\n",
    "test_files = test_files[1:]\n",
    "test_targets = test_targets[1:]\n",
    "\n",
    "# Print basic statistics about the training and test sets\n",
    "print('There are %d images for training and validation.' % len(alltrain_files))\n",
    "print('There are %d images for testing.' % len(test_files))"
   ]
  },
  {
   "cell_type": "markdown",
   "metadata": {},
   "source": [
    "### Further split the Model Development Set into 'Train' and 'Validation'\n",
    "The data are split so that 60% are used for training, 20% for validating hyperparameter optimization, and 20% for final testing after all parameters have been chosen (using the combined training+validation set)."
   ]
  },
  {
   "cell_type": "code",
   "execution_count": 7,
   "metadata": {},
   "outputs": [
    {
     "name": "stdout",
     "output_type": "stream",
     "text": [
      "There are 2820 images for training.\n",
      "There are 940 images for validation.\n",
      "There are 940 images for testing.\n"
     ]
    }
   ],
   "source": [
    "# Split training into 'train' and 'validation'\n",
    "train_files, valid_files, train_targets, valid_targets = train_test_split(\n",
    "                                                                          alltrain_files, \n",
    "                                                                          alltrain_targets, \n",
    "                                                                          test_size = 0.25, \n",
    "                                                                          random_state = randState,\n",
    "                                                                          stratify = alltrain_targets)\n",
    "\n",
    "# Print basic statistics about the training and test sets\n",
    "print('There are %d images for training.' % len(train_files))\n",
    "print('There are %d images for validation.' % len(valid_files))\n",
    "print('There are %d images for testing.' % len(test_files))"
   ]
  },
  {
   "cell_type": "markdown",
   "metadata": {},
   "source": [
    "### One Hot Encode the Plant Classes"
   ]
  },
  {
   "cell_type": "code",
   "execution_count": 8,
   "metadata": {},
   "outputs": [
    {
     "name": "stdout",
     "output_type": "stream",
     "text": [
      "[[1. 0. 0. 0. 0. 0. 0. 0. 0. 0. 0. 0.]\n",
      " [0. 1. 0. 0. 0. 0. 0. 0. 0. 0. 0. 0.]\n",
      " [0. 0. 1. 0. 0. 0. 0. 0. 0. 0. 0. 0.]\n",
      " [0. 0. 0. 1. 0. 0. 0. 0. 0. 0. 0. 0.]\n",
      " [0. 0. 0. 0. 1. 0. 0. 0. 0. 0. 0. 0.]\n",
      " [0. 0. 0. 0. 0. 1. 0. 0. 0. 0. 0. 0.]\n",
      " [0. 0. 0. 0. 0. 0. 1. 0. 0. 0. 0. 0.]\n",
      " [0. 0. 0. 0. 0. 0. 0. 1. 0. 0. 0. 0.]\n",
      " [0. 0. 0. 0. 0. 0. 0. 0. 1. 0. 0. 0.]\n",
      " [0. 0. 0. 0. 0. 0. 0. 0. 0. 1. 0. 0.]\n",
      " [0. 0. 0. 0. 0. 0. 0. 0. 0. 0. 1. 0.]\n",
      " [0. 0. 0. 0. 0. 0. 0. 0. 0. 0. 0. 1.]]\n"
     ]
    }
   ],
   "source": [
    "# Generate Identity matrix for one-hot encoding of classes\n",
    "plantCategories = np.zeros((numPlantClasses, numPlantClasses))\n",
    "for row in range(0,numPlantClasses):\n",
    "    plantCategories[row][row] = 1.\n",
    "\n",
    "# Print the one-hot encodings    \n",
    "print(plantCategories)"
   ]
  },
  {
   "cell_type": "markdown",
   "metadata": {},
   "source": [
    "### Visualize the class distribution after discarding poor quality images\n",
    "The distribution of the image classes is displayed below. In subsequent charts, the distribution of the training, validation, and testing sets are also visualized to confirm that the class distribution of the full data set is approximately preserved within those subsets. A quick glance at the bar charts confirms that the distribution has in fact been preserved."
   ]
  },
  {
   "cell_type": "code",
   "execution_count": 9,
   "metadata": {},
   "outputs": [
    {
     "data": {
      "image/png": "[encoded data removed]",
      "text/plain": [
       "<Figure size 432x288 with 1 Axes>"
      ]
     },
     "metadata": {},
     "output_type": "display_data"
    }
   ],
   "source": [
    "from IPython.display import display, Image\n",
    "from viz import create_bar_chart\n",
    "import numpy as np\n",
    "\n",
    "# Config the matplotlib backend as plotting inline in IPython\n",
    "%matplotlib inline\n",
    "\n",
    "create_bar_chart(plant_targets, plantCategories, titleString = 'Class distribution for all images')"
   ]
  },
  {
   "cell_type": "markdown",
   "metadata": {},
   "source": [
    "### Class Distribution of Train Set"
   ]
  },
  {
   "cell_type": "code",
   "execution_count": 10,
   "metadata": {},
   "outputs": [
    {
     "data": {
      "image/png": "[encoded data removed]",
      "text/plain": [
       "<Figure size 432x288 with 1 Axes>"
      ]
     },
     "metadata": {},
     "output_type": "display_data"
    }
   ],
   "source": [
    "create_bar_chart(train_targets, plantCategories, titleString = 'Distr. of Training Set (excludes Validation)')"
   ]
  },
  {
   "cell_type": "markdown",
   "metadata": {},
   "source": [
    "### Class Distribution of Validation Set"
   ]
  },
  {
   "cell_type": "code",
   "execution_count": 11,
   "metadata": {},
   "outputs": [
    {
     "data": {
      "image/png": "[encoded data removed]",
      "text/plain": [
       "<Figure size 432x288 with 1 Axes>"
      ]
     },
     "metadata": {},
     "output_type": "display_data"
    }
   ],
   "source": [
    "create_bar_chart(valid_targets, plantCategories, titleString = 'Distribution of Validation Set')"
   ]
  },
  {
   "cell_type": "markdown",
   "metadata": {},
   "source": [
    "### Class Distribution of Test Set"
   ]
  },
  {
   "cell_type": "code",
   "execution_count": 12,
   "metadata": {},
   "outputs": [
    {
     "data": {
      "image/png": "[encoded data removed]",
      "text/plain": [
       "<Figure size 432x288 with 1 Axes>"
      ]
     },
     "metadata": {},
     "output_type": "display_data"
    }
   ],
   "source": [
    "create_bar_chart(test_targets, plantCategories, titleString = 'Distribution of Test Set')"
   ]
  },
  {
   "cell_type": "markdown",
   "metadata": {},
   "source": [
    "### Image Pre-processing\n",
    "\n",
    "In this section the images are converted to 4-D tensors. The tensors are helpful for machine learning with Keras."
   ]
  },
  {
   "cell_type": "code",
   "execution_count": 13,
   "metadata": {},
   "outputs": [],
   "source": [
    "from keras.preprocessing import image                  \n",
    "from tqdm import tqdm\n",
    "\n",
    "# These functions are borrowed from the following Udacity repo:\n",
    "# https://github.com/udacity/dog-project/blob/master/dog_app.ipynb\n",
    "def path_to_tensor(img_path, targetImageSize):\n",
    "    # loads RGB image as PIL.Image.Image type\n",
    "    img = image.load_img(img_path, target_size=(targetImageSize, targetImageSize))\n",
    "    # convert PIL.Image.Image type to 3D tensor with shape (224, 224, 3)\n",
    "    x = image.img_to_array(img)\n",
    "    # convert 3D tensor to 4D tensor with shape (1, 224, 224, 3) and return 4D tensor\n",
    "    return np.expand_dims(x, axis=0)\n",
    "\n",
    "def paths_to_tensor(img_paths, targetImageSize):\n",
    "    list_of_tensors = [path_to_tensor(img_path, targetImageSize) for img_path in tqdm(img_paths)]\n",
    "    return np.vstack(list_of_tensors)"
   ]
  },
  {
   "cell_type": "markdown",
   "metadata": {},
   "source": [
    "### Scaling and conversion to Tensors\n",
    "\n",
    "The images are re-scaled is done in the following way: every pixel in every image is divided by 255 as a way to standardize the pixel values. "
   ]
  },
  {
   "cell_type": "code",
   "execution_count": 14,
   "metadata": {},
   "outputs": [
    {
     "name": "stderr",
     "output_type": "stream",
     "text": [
      "100%|██████████| 2820/2820 [00:31<00:00, 90.30it/s] \n",
      "100%|██████████| 940/940 [00:09<00:00, 100.57it/s]\n",
      "100%|██████████| 940/940 [00:10<00:00, 91.00it/s] \n"
     ]
    }
   ],
   "source": [
    "from PIL import ImageFile\n",
    "ImageFile.LOAD_TRUNCATED_IMAGES = True                 \n",
    "\n",
    "NORMALIZATION_FACTOR = 255\n",
    "plantsImageSize = 224\n",
    "\n",
    "# pre-process the data for Keras\n",
    "train_tensors = paths_to_tensor(train_files, plantsImageSize).astype('float32')/NORMALIZATION_FACTOR\n",
    "valid_tensors = paths_to_tensor(valid_files, plantsImageSize).astype('float32')/NORMALIZATION_FACTOR\n",
    "test_tensors = paths_to_tensor(test_files, plantsImageSize).astype('float32')/NORMALIZATION_FACTOR"
   ]
  },
  {
   "cell_type": "markdown",
   "metadata": {},
   "source": [
    "---\n",
    "<a id='step3'></a>\n",
    "## Step 3: Benchmark Model: a simple ConvNet made from scratch\n",
    "\n"
   ]
  },
  {
   "cell_type": "markdown",
   "metadata": {},
   "source": [
    "### Create a directory for saving all models"
   ]
  },
  {
   "cell_type": "code",
   "execution_count": 14,
   "metadata": {},
   "outputs": [],
   "source": [
    "import os, errno\n",
    "\n",
    "directory = 'saved_models/'\n",
    "\n",
    "try:\n",
    "    os.makedirs(directory)\n",
    "except OSError as e:\n",
    "    if e.errno != errno.EEXIST:\n",
    "        raise"
   ]
  },
  {
   "cell_type": "markdown",
   "metadata": {},
   "source": [
    "### Compile and Train Benchmark CNN\n",
    "\n",
    "In this section, a convolutional neural network is trined from scratch. The model takes inspiration from the VGG16/VGG19 models in that it consists of alternating blocks containing 2D convolutions and max pooling. The final layers are densely connected. This model also utilizes drop-out in order to reduce the overfitting. It will also not be trained on ImageNet data, which is an option for loading  VGG16 / VGG19 CNNs. The benchmark model is compiled and trained in the code cells below. Model checkpointing is used to save the model that attains the best validation loss. This benchmark CNN is smaller than VGG16 / VGG19 but it is a realistic and quite adequate. The model achieves a ??? % classification rate, which is slightly better than random guessing. It also earns an F1-score of ??."
   ]
  },
  {
   "cell_type": "markdown",
   "metadata": {},
   "source": [
    "#### Import Deep Learning Libraries, Sklearn Functions, User Defined Functions"
   ]
  },
  {
   "cell_type": "code",
   "execution_count": 15,
   "metadata": {},
   "outputs": [],
   "source": [
    "# Load deep learning libraries from Keras\n",
    "from keras.wrappers.scikit_learn import KerasClassifier\n",
    "from keras.layers import Conv2D, MaxPooling2D, GlobalAveragePooling2D\n",
    "from keras.layers import Dropout, Flatten, Dense\n",
    "from keras.models import Sequential\n",
    "from keras.callbacks import Callback, ModelCheckpoint\n",
    "from sklearn.model_selection import GridSearchCV\n",
    "from modelGen import create_benchmark_CNN\n",
    "from project_metrics import Metrics\n",
    "from sklearn.metrics import confusion_matrix\n",
    "from sklearn.metrics import f1_score\n",
    "from sklearn.metrics import precision_score\n",
    "from sklearn.metrics import recall_score\n",
    "from viz import plot_model_acc_loss\n",
    "\n",
    "# Extends the f1_score to tensor inputs\n",
    "from project_metrics import microaveraged_f1score\n",
    "from predictions import predict_with_tensors\n",
    "\n",
    "# Import user-defined class that computes the f1-score after each epoch\n",
    "thisProjectsMetrics = Metrics()"
   ]
  },
  {
   "cell_type": "markdown",
   "metadata": {},
   "source": [
    "#### Create benchmark model. See 'modelGen.py' for architecture"
   ]
  },
  {
   "cell_type": "code",
   "execution_count": 40,
   "metadata": {},
   "outputs": [
    {
     "name": "stdout",
     "output_type": "stream",
     "text": [
      "_________________________________________________________________\n",
      "Layer (type)                 Output Shape              Param #   \n",
      "=================================================================\n",
      "conv2d_1 (Conv2D)            (None, 224, 224, 16)      208       \n",
      "_________________________________________________________________\n",
      "conv2d_2 (Conv2D)            (None, 224, 224, 16)      1040      \n",
      "_________________________________________________________________\n",
      "max_pooling2d_1 (MaxPooling2 (None, 112, 112, 16)      0         \n",
      "_________________________________________________________________\n",
      "conv2d_3 (Conv2D)            (None, 112, 112, 32)      2080      \n",
      "_________________________________________________________________\n",
      "conv2d_4 (Conv2D)            (None, 112, 112, 32)      4128      \n",
      "_________________________________________________________________\n",
      "dropout_6 (Dropout)          (None, 112, 112, 32)      0         \n",
      "_________________________________________________________________\n",
      "max_pooling2d_2 (MaxPooling2 (None, 56, 56, 32)        0         \n",
      "_________________________________________________________________\n",
      "conv2d_5 (Conv2D)            (None, 56, 56, 64)        8256      \n",
      "_________________________________________________________________\n",
      "conv2d_6 (Conv2D)            (None, 56, 56, 64)        16448     \n",
      "_________________________________________________________________\n",
      "dropout_7 (Dropout)          (None, 56, 56, 64)        0         \n",
      "_________________________________________________________________\n",
      "max_pooling2d_3 (MaxPooling2 (None, 28, 28, 64)        0         \n",
      "_________________________________________________________________\n",
      "flatten_6 (Flatten)          (None, 50176)             0         \n",
      "_________________________________________________________________\n",
      "dense_11 (Dense)             (None, 500)               25088500  \n",
      "_________________________________________________________________\n",
      "dense_12 (Dense)             (None, 12)                6012      \n",
      "=================================================================\n",
      "Total params: 25,126,672\n",
      "Trainable params: 25,126,672\n",
      "Non-trainable params: 0\n",
      "_________________________________________________________________\n"
     ]
    }
   ],
   "source": [
    "benchmark = create_benchmark_CNN(plantsImageSize = 224, drop_outA = 0.1, drop_outB = 0.1, neurons = 500)\n",
    "benchmark.summary()"
   ]
  },
  {
   "cell_type": "markdown",
   "metadata": {},
   "source": [
    "#### Fit the benchmark model"
   ]
  },
  {
   "cell_type": "code",
   "execution_count": 52,
   "metadata": {},
   "outputs": [
    {
     "name": "stdout",
     "output_type": "stream",
     "text": [
      "Train on 2820 samples, validate on 940 samples\n",
      "Epoch 1/15\n",
      "2820/2820 [==============================] - 20s 7ms/step - loss: 0.2180 - acc: 0.9287 - val_loss: 0.8854 - val_acc: 0.7489\n",
      "— val_f1: 0.7489361702127659\n",
      "\n",
      "Epoch 00001: val_loss improved from inf to 0.88540, saving model to saved_models/weights.best.from_scratch_new.hdf5\n",
      "Epoch 2/15\n",
      "2820/2820 [==============================] - 19s 7ms/step - loss: 0.1465 - acc: 0.9567 - val_loss: 0.9690 - val_acc: 0.7479\n",
      "— val_f1: 0.747872340425532\n",
      "\n",
      "Epoch 00002: val_loss did not improve from 0.88540\n",
      "Epoch 3/15\n",
      "2820/2820 [==============================] - 19s 7ms/step - loss: 0.0858 - acc: 0.9727 - val_loss: 1.2114 - val_acc: 0.6883\n",
      "— val_f1: 0.6882978723404255\n",
      "\n",
      "Epoch 00003: val_loss did not improve from 0.88540\n",
      "Epoch 4/15\n",
      "2820/2820 [==============================] - 19s 7ms/step - loss: 0.0863 - acc: 0.9770 - val_loss: 1.0922 - val_acc: 0.7394\n",
      "— val_f1: 0.7393617021276595\n",
      "\n",
      "Epoch 00004: val_loss did not improve from 0.88540\n",
      "Epoch 5/15\n",
      "2820/2820 [==============================] - 19s 7ms/step - loss: 0.0666 - acc: 0.9801 - val_loss: 1.2692 - val_acc: 0.7128\n",
      "— val_f1: 0.7127659574468085\n",
      "\n",
      "Epoch 00005: val_loss did not improve from 0.88540\n",
      "Epoch 6/15\n",
      "2820/2820 [==============================] - 19s 7ms/step - loss: 0.0912 - acc: 0.9720 - val_loss: 1.1895 - val_acc: 0.7436\n",
      "— val_f1: 0.7436170212765957\n",
      "\n",
      "Epoch 00006: val_loss did not improve from 0.88540\n",
      "Epoch 7/15\n",
      "2820/2820 [==============================] - 19s 7ms/step - loss: 0.0327 - acc: 0.9904 - val_loss: 1.4777 - val_acc: 0.7191\n",
      "— val_f1: 0.7191489361702128\n",
      "\n",
      "Epoch 00007: val_loss did not improve from 0.88540\n",
      "Epoch 8/15\n",
      "2820/2820 [==============================] - 19s 7ms/step - loss: 0.0162 - acc: 0.9965 - val_loss: 1.3611 - val_acc: 0.7521\n",
      "— val_f1: 0.752127659574468\n",
      "\n",
      "Epoch 00008: val_loss did not improve from 0.88540\n",
      "Epoch 9/15\n",
      "2820/2820 [==============================] - 19s 7ms/step - loss: 0.0066 - acc: 0.9986 - val_loss: 1.3704 - val_acc: 0.7596\n",
      "— val_f1: 0.7595744680851064\n",
      "\n",
      "Epoch 00009: val_loss did not improve from 0.88540\n",
      "Epoch 10/15\n",
      "2820/2820 [==============================] - 19s 7ms/step - loss: 0.0042 - acc: 0.9986 - val_loss: 1.6357 - val_acc: 0.7596\n",
      "— val_f1: 0.7595744680851064\n",
      "\n",
      "Epoch 00010: val_loss did not improve from 0.88540\n",
      "Epoch 11/15\n",
      "2820/2820 [==============================] - 19s 7ms/step - loss: 9.4704e-04 - acc: 1.0000 - val_loss: 1.6896 - val_acc: 0.7426\n",
      "— val_f1: 0.7425531914893617\n",
      "\n",
      "Epoch 00011: val_loss did not improve from 0.88540\n",
      "Epoch 12/15\n",
      "2820/2820 [==============================] - 19s 7ms/step - loss: 0.0018 - acc: 0.9996 - val_loss: 1.6286 - val_acc: 0.7574\n",
      "— val_f1: 0.7574468085106383\n",
      "\n",
      "Epoch 00012: val_loss did not improve from 0.88540\n",
      "Epoch 13/15\n",
      "2820/2820 [==============================] - 19s 7ms/step - loss: 0.0011 - acc: 0.9993 - val_loss: 1.6200 - val_acc: 0.7638\n",
      "— val_f1: 0.7638297872340427\n",
      "\n",
      "Epoch 00013: val_loss did not improve from 0.88540\n",
      "Epoch 14/15\n",
      "2820/2820 [==============================] - 19s 7ms/step - loss: 1.8456e-04 - acc: 1.0000 - val_loss: 1.6575 - val_acc: 0.7606\n",
      "— val_f1: 0.7606382978723403\n",
      "\n",
      "Epoch 00014: val_loss did not improve from 0.88540\n",
      "Epoch 15/15\n",
      "2820/2820 [==============================] - 19s 7ms/step - loss: 1.0485e-04 - acc: 1.0000 - val_loss: 1.6678 - val_acc: 0.7617\n",
      "— val_f1: 0.7617021276595745\n",
      "\n",
      "Epoch 00015: val_loss did not improve from 0.88540\n"
     ]
    },
    {
     "data": {
      "image/png": "[encoded data removed]",
      "text/plain": [
       "<Figure size 432x288 with 1 Axes>"
      ]
     },
     "metadata": {},
     "output_type": "display_data"
    },
    {
     "data": {
      "image/png": "[encoded data removed]",
      "text/plain": [
       "<Figure size 432x288 with 1 Axes>"
      ]
     },
     "metadata": {},
     "output_type": "display_data"
    }
   ],
   "source": [
    "reTrainBenchmark = False\n",
    "\n",
    "# Define number of epochs and batch size\n",
    "nEpochs = 15\n",
    "batchSize = 20\n",
    "\n",
    "if reTrainBenchmark:\n",
    "    # Define checkpointer\n",
    "    checkpointer = ModelCheckpoint(filepath='saved_models/weights.best.from_scratch.hdf5', \n",
    "                                   verbose=1, \n",
    "                                   save_best_only=True)\n",
    "\n",
    "    # Train the model\n",
    "    benchmarkHistory = benchmark.fit(train_tensors, train_targets, \n",
    "                                     validation_data = (valid_tensors, valid_targets),\n",
    "                                     epochs = nEpochs,\n",
    "                                     batch_size = batchSize,\n",
    "                                     callbacks = [thisProjectsMetrics, checkpointer],\n",
    "                                     verbose = 1)\n",
    "    \n",
    "    # Plot the Training History\n",
    "    plot_model_acc_loss(benchmarkHistory)"
   ]
  },
  {
   "cell_type": "markdown",
   "metadata": {},
   "source": [
    "### Test the Benchmark Model\n",
    "\n",
    "The benchmark CNN is evaluated on the specially designated test dataset of plant seedlings images. The F1-score on the test set is printed below."
   ]
  },
  {
   "cell_type": "code",
   "execution_count": 41,
   "metadata": {},
   "outputs": [
    {
     "name": "stdout",
     "output_type": "stream",
     "text": [
      "This F1-score for this model is  0.7510638297872341\n"
     ]
    }
   ],
   "source": [
    "# Load the weights yielding the best validation loss\n",
    "benchmark.load_weights('saved_models/weights.best.from_scratch.hdf5')\n",
    "\n",
    "# Make predictions with Test Set\n",
    "predictionsWithBenchmark = predict_with_tensors(benchmark, test_tensors)\n",
    "\n",
    "# Determine F1-score\n",
    "F1ScoreBenchmark = microaveraged_f1score(test_targets, predictionsWithBenchmark)\n",
    "\n",
    "# Print F1-score to console\n",
    "print(\"This F1-score for this model is \", F1ScoreBenchmark)"
   ]
  },
  {
   "cell_type": "markdown",
   "metadata": {},
   "source": [
    "---\n",
    "<a id='step4'></a>\n",
    "## Step 4: Transfer Learning with VGG19 to develop a ConvNet.\n",
    "\n",
    "In this section transfer learning is used to train a CNN. The goal is to take advantage of VGG19, a pre-trained CNN that has already been trained on ImageNet, a standard computer vision image dataset that contains images of both natural and man-made objects. None of the categories of the ImageNet database include plants, so this application of transfer learning will rely on the general features that VGG19 has already learned from the ImageNet database."
   ]
  },
  {
   "cell_type": "markdown",
   "metadata": {},
   "source": [
    "### Preprocess the Image Data"
   ]
  },
  {
   "cell_type": "code",
   "execution_count": 16,
   "metadata": {},
   "outputs": [],
   "source": [
    "from keras.applications.vgg19 import preprocess_input\n",
    "\n",
    "def preprocess_images(data_files, inputImageSize = 224):\n",
    "    ''' Preprocess the image data for VGG19 model '''\n",
    "    \n",
    "    # Convert Images to Tensors and pass through 'preprocess_input' function\n",
    "    preprocessedData = preprocess_input(paths_to_tensor(data_files, inputImageSize))\n",
    "    return preprocessedData"
   ]
  },
  {
   "cell_type": "code",
   "execution_count": 17,
   "metadata": {},
   "outputs": [
    {
     "name": "stderr",
     "output_type": "stream",
     "text": [
      "100%|██████████| 2820/2820 [00:31<00:00, 89.90it/s] \n",
      "100%|██████████| 940/940 [00:09<00:00, 100.63it/s]\n",
      "100%|██████████| 940/940 [00:10<00:00, 91.13it/s] \n"
     ]
    }
   ],
   "source": [
    "# Preprocess the image data\n",
    "trainData = preprocess_images(train_files, plantsImageSize)\n",
    "validData = preprocess_images(valid_files, plantsImageSize)\n",
    "testData = preprocess_images(test_files, plantsImageSize)"
   ]
  },
  {
   "cell_type": "markdown",
   "metadata": {},
   "source": [
    "#### Create combined VGG19 + top-model ConvNet"
   ]
  },
  {
   "cell_type": "code",
   "execution_count": 18,
   "metadata": {},
   "outputs": [
    {
     "name": "stdout",
     "output_type": "stream",
     "text": [
      "_________________________________________________________________\n",
      "Layer (type)                 Output Shape              Param #   \n",
      "=================================================================\n",
      "input_1 (InputLayer)         (None, 224, 224, 3)       0         \n",
      "_________________________________________________________________\n",
      "block1_conv1 (Conv2D)        (None, 224, 224, 64)      1792      \n",
      "_________________________________________________________________\n",
      "block1_conv2 (Conv2D)        (None, 224, 224, 64)      36928     \n",
      "_________________________________________________________________\n",
      "block1_pool (MaxPooling2D)   (None, 112, 112, 64)      0         \n",
      "_________________________________________________________________\n",
      "block2_conv1 (Conv2D)        (None, 112, 112, 128)     73856     \n",
      "_________________________________________________________________\n",
      "block2_conv2 (Conv2D)        (None, 112, 112, 128)     147584    \n",
      "_________________________________________________________________\n",
      "block2_pool (MaxPooling2D)   (None, 56, 56, 128)       0         \n",
      "_________________________________________________________________\n",
      "block3_conv1 (Conv2D)        (None, 56, 56, 256)       295168    \n",
      "_________________________________________________________________\n",
      "block3_conv2 (Conv2D)        (None, 56, 56, 256)       590080    \n",
      "_________________________________________________________________\n",
      "block3_conv3 (Conv2D)        (None, 56, 56, 256)       590080    \n",
      "_________________________________________________________________\n",
      "block3_conv4 (Conv2D)        (None, 56, 56, 256)       590080    \n",
      "_________________________________________________________________\n",
      "block3_pool (MaxPooling2D)   (None, 28, 28, 256)       0         \n",
      "_________________________________________________________________\n",
      "block4_conv1 (Conv2D)        (None, 28, 28, 512)       1180160   \n",
      "_________________________________________________________________\n",
      "block4_conv2 (Conv2D)        (None, 28, 28, 512)       2359808   \n",
      "_________________________________________________________________\n",
      "block4_conv3 (Conv2D)        (None, 28, 28, 512)       2359808   \n",
      "_________________________________________________________________\n",
      "block4_conv4 (Conv2D)        (None, 28, 28, 512)       2359808   \n",
      "_________________________________________________________________\n",
      "block4_pool (MaxPooling2D)   (None, 14, 14, 512)       0         \n",
      "_________________________________________________________________\n",
      "block5_conv1 (Conv2D)        (None, 14, 14, 512)       2359808   \n",
      "_________________________________________________________________\n",
      "block5_conv2 (Conv2D)        (None, 14, 14, 512)       2359808   \n",
      "_________________________________________________________________\n",
      "block5_conv3 (Conv2D)        (None, 14, 14, 512)       2359808   \n",
      "_________________________________________________________________\n",
      "block5_conv4 (Conv2D)        (None, 14, 14, 512)       2359808   \n",
      "_________________________________________________________________\n",
      "block5_pool (MaxPooling2D)   (None, 7, 7, 512)         0         \n",
      "_________________________________________________________________\n",
      "flatten_1 (Flatten)          (None, 25088)             0         \n",
      "_________________________________________________________________\n",
      "dense_1 (Dense)              (None, 128)               3211392   \n",
      "_________________________________________________________________\n",
      "dropout_1 (Dropout)          (None, 128)               0         \n",
      "_________________________________________________________________\n",
      "dense_2 (Dense)              (None, 12)                1548      \n",
      "=================================================================\n",
      "Total params: 23,237,324\n",
      "Trainable params: 3,212,940\n",
      "Non-trainable params: 20,024,384\n",
      "_________________________________________________________________\n"
     ]
    }
   ],
   "source": [
    "import pickle\n",
    "from keras.optimizers import RMSprop\n",
    "from keras import optimizers\n",
    "from modelGen import load_pretrain_CNN, create_top_model, aggregated_model\n",
    "\n",
    "reTrainTopModel = False\n",
    "nEpochs = 15\n",
    "\n",
    "# Set Parameters for model development\n",
    "layersToKeep = 22                # [4, 7, 12, 17, -1]\n",
    "learnRate = 0.0005               # [0.0001, 0.0005, 0.001, 0.005]\n",
    "nDenseNeuron = 128               # [64, 128]\n",
    "dropout = 0.10                   # [0.10, 0.20]\n",
    "\n",
    "# Create model: VGG19 + densely connected \"top model\"\n",
    "whichOptimizer = 0               # 0 to train top model\n",
    "model = aggregated_model(plantsImageSize,layersToKeep,layersToKeep,learnRate,nDenseNeuron,dropout,whichOptimizer)\n",
    "model.summary()"
   ]
  },
  {
   "cell_type": "markdown",
   "metadata": {},
   "source": [
    "#### The combined VGG19 (all layers frozen) + \"top model\" is trained here"
   ]
  },
  {
   "cell_type": "code",
   "execution_count": 44,
   "metadata": {},
   "outputs": [],
   "source": [
    "params_string = 'LR_0005_neurons_' + str(nDenseNeuron) + '_drop_' + str(int(dropout*100))\n",
    "filepath_best_topLayers = 'saved_models/weights.best.topLayers_' + params_string + '.hdf5'\n",
    "\n",
    "if reTrainTopModel:\n",
    "    checkpointer = ModelCheckpoint(filepath = filepath_best_topLayers, verbose=1, save_best_only=True)\n",
    "\n",
    "    # Train the (top) model\n",
    "    topModel_history = model.fit(trainData, train_targets,\n",
    "                                 validation_data = (validData, valid_targets),\n",
    "                                 epochs = nEpochs, \n",
    "                                 batch_size = batchSize, \n",
    "                                 callbacks = [thisProjectsMetrics, checkpointer], \n",
    "                                 verbose=1)\n",
    "    \n",
    "    # Plot the training history\n",
    "    plot_model_acc_loss(topModel_history)"
   ]
  },
  {
   "cell_type": "markdown",
   "metadata": {},
   "source": [
    "### Fine Tune the Aggregate ConvNet"
   ]
  },
  {
   "cell_type": "code",
   "execution_count": 45,
   "metadata": {},
   "outputs": [
    {
     "name": "stdout",
     "output_type": "stream",
     "text": [
      "Train on 2820 samples, validate on 940 samples\n",
      "Epoch 1/15\n",
      "2820/2820 [==============================] - 78s 28ms/step - loss: 0.7078 - acc: 0.8230 - val_loss: 0.6291 - val_acc: 0.8191\n",
      "— val_f1: 0.8191489361702128\n",
      "\n",
      "Epoch 00001: val_loss improved from inf to 0.62907, saving model to saved_models/weights.best.finalModel_LR_0005_neurons_128_drop_10_freeze_12.hdf5\n",
      "Epoch 2/15\n",
      "2820/2820 [==============================] - 76s 27ms/step - loss: 0.2784 - acc: 0.9142 - val_loss: 0.5790 - val_acc: 0.8404\n",
      "— val_f1: 0.8404255319148938\n",
      "\n",
      "Epoch 00002: val_loss improved from 0.62907 to 0.57900, saving model to saved_models/weights.best.finalModel_LR_0005_neurons_128_drop_10_freeze_12.hdf5\n",
      "Epoch 3/15\n",
      "2820/2820 [==============================] - 76s 27ms/step - loss: 0.1161 - acc: 0.9617 - val_loss: 0.5699 - val_acc: 0.8596\n",
      "— val_f1: 0.8595744680851064\n",
      "\n",
      "Epoch 00003: val_loss improved from 0.57900 to 0.56993, saving model to saved_models/weights.best.finalModel_LR_0005_neurons_128_drop_10_freeze_12.hdf5\n",
      "Epoch 4/15\n",
      "2820/2820 [==============================] - 76s 27ms/step - loss: 0.0846 - acc: 0.9720 - val_loss: 0.5848 - val_acc: 0.8521\n",
      "— val_f1: 0.8521276595744681\n",
      "\n",
      "Epoch 00004: val_loss did not improve from 0.56993\n",
      "Epoch 5/15\n",
      "2820/2820 [==============================] - 76s 27ms/step - loss: 0.0541 - acc: 0.9837 - val_loss: 0.5586 - val_acc: 0.8734\n",
      "— val_f1: 0.8734042553191489\n",
      "\n",
      "Epoch 00005: val_loss improved from 0.56993 to 0.55862, saving model to saved_models/weights.best.finalModel_LR_0005_neurons_128_drop_10_freeze_12.hdf5\n",
      "Epoch 6/15\n",
      "2820/2820 [==============================] - 76s 27ms/step - loss: 0.0286 - acc: 0.9908 - val_loss: 0.5858 - val_acc: 0.8798\n",
      "— val_f1: 0.8797872340425531\n",
      "\n",
      "Epoch 00006: val_loss did not improve from 0.55862\n",
      "Epoch 7/15\n",
      "2820/2820 [==============================] - 76s 27ms/step - loss: 0.0495 - acc: 0.9812 - val_loss: 0.6635 - val_acc: 0.8596\n",
      "— val_f1: 0.8595744680851064\n",
      "\n",
      "Epoch 00007: val_loss did not improve from 0.55862\n",
      "Epoch 8/15\n",
      "2820/2820 [==============================] - 76s 27ms/step - loss: 0.0348 - acc: 0.9894 - val_loss: 0.7197 - val_acc: 0.8596\n",
      "— val_f1: 0.8595744680851064\n",
      "\n",
      "Epoch 00008: val_loss did not improve from 0.55862\n",
      "Epoch 9/15\n",
      "2820/2820 [==============================] - 76s 27ms/step - loss: 0.0307 - acc: 0.9926 - val_loss: 0.6295 - val_acc: 0.8723\n",
      "— val_f1: 0.8723404255319149\n",
      "\n",
      "Epoch 00009: val_loss did not improve from 0.55862\n",
      "Epoch 10/15\n",
      "2820/2820 [==============================] - 76s 27ms/step - loss: 0.0186 - acc: 0.9943 - val_loss: 0.5905 - val_acc: 0.8851\n",
      "— val_f1: 0.8851063829787233\n",
      "\n",
      "Epoch 00010: val_loss did not improve from 0.55862\n",
      "Epoch 11/15\n",
      "2820/2820 [==============================] - 76s 27ms/step - loss: 0.0174 - acc: 0.9957 - val_loss: 0.6194 - val_acc: 0.8809\n",
      "— val_f1: 0.8808510638297873\n",
      "\n",
      "Epoch 00011: val_loss did not improve from 0.55862\n",
      "Epoch 12/15\n",
      "2820/2820 [==============================] - 76s 27ms/step - loss: 0.0174 - acc: 0.9936 - val_loss: 0.6164 - val_acc: 0.8872\n",
      "— val_f1: 0.8872340425531915\n",
      "\n",
      "Epoch 00012: val_loss did not improve from 0.55862\n",
      "Epoch 13/15\n",
      "2820/2820 [==============================] - 76s 27ms/step - loss: 0.0173 - acc: 0.9961 - val_loss: 0.6783 - val_acc: 0.8691\n",
      "— val_f1: 0.8691489361702127\n",
      "\n",
      "Epoch 00013: val_loss did not improve from 0.55862\n",
      "Epoch 14/15\n",
      "2820/2820 [==============================] - 76s 27ms/step - loss: 0.0126 - acc: 0.9947 - val_loss: 0.5983 - val_acc: 0.8947\n",
      "— val_f1: 0.8946808510638298\n",
      "\n",
      "Epoch 00014: val_loss did not improve from 0.55862\n",
      "Epoch 15/15\n",
      "2820/2820 [==============================] - 76s 27ms/step - loss: 0.0071 - acc: 0.9975 - val_loss: 0.6440 - val_acc: 0.8766\n",
      "— val_f1: 0.8765957446808512\n",
      "\n",
      "Epoch 00015: val_loss did not improve from 0.55862\n"
     ]
    }
   ],
   "source": [
    "fineTuneModel = False\n",
    "vggFreeze = [4, 7, 12, 17, 22]\n",
    "\n",
    "if fineTuneModel:\n",
    "\n",
    "    for VggLayersToFreeze in vggFreeze:\n",
    "\n",
    "        # Load weights from the top model\n",
    "        whichOptimizer = 1\n",
    "        finalModel = aggregated_model(plantsImageSize,layersToKeep,VggLayersToFreeze,learnRate,nDenseNeuron,dropout,whichOptimizer)\n",
    "        finalModel.load_weights(filepath_best_topLayers)\n",
    "\n",
    "        # Fine tune model\n",
    "        params_string = 'LR_0005_neurons_'+str(nDenseNeuron)+'_drop_'+str(int(dropout*100))+'_freeze_'+str(VggLayersToFreeze)\n",
    "        filepath_best_final_model = 'saved_models/weights.best.finalModel_' + params_string + '.hdf5'\n",
    "\n",
    "        checkpointer = ModelCheckpoint(filepath = filepath_best_final_model, verbose=1, save_best_only=True)\n",
    "\n",
    "        finalModel_history = finalModel.fit(trainData, \n",
    "                                            train_targets,\n",
    "                                            validation_data = (validData, valid_targets),\n",
    "                                            epochs = nEpochs, \n",
    "                                            batch_size = batchSize, \n",
    "                                            callbacks = [thisProjectsMetrics, checkpointer], \n",
    "                                            verbose=1)\n",
    "\n",
    "        # Save training history\n",
    "        histFilename = 'saved_models/trainHistoryDict_' + params_string\n",
    "        with open(histFilename, 'wb') as file_pi:\n",
    "            pickle.dump(finalModel_history.history, file_pi)"
   ]
  },
  {
   "cell_type": "code",
   "execution_count": 46,
   "metadata": {},
   "outputs": [
    {
     "data": {
      "image/png": "[encoded data removed]",
      "text/plain": [
       "<Figure size 432x288 with 1 Axes>"
      ]
     },
     "metadata": {},
     "output_type": "display_data"
    },
    {
     "data": {
      "image/png": "[encoded data removed]",
      "text/plain": [
       "<Figure size 432x288 with 1 Axes>"
      ]
     },
     "metadata": {},
     "output_type": "display_data"
    }
   ],
   "source": [
    "# Plot training history\n",
    "plot_model_acc_loss(finalModel_history)"
   ]
  },
  {
   "cell_type": "markdown",
   "metadata": {},
   "source": [
    "<a id='step5'></a>\n",
    "## Step 5: Final Model Evaluation"
   ]
  },
  {
   "cell_type": "code",
   "execution_count": 20,
   "metadata": {},
   "outputs": [
    {
     "data": {
      "image/png": "[encoded data removed]",
      "text/plain": [
       "<Figure size 432x288 with 1 Axes>"
      ]
     },
     "metadata": {},
     "output_type": "display_data"
    },
    {
     "data": {
      "image/png": "[encoded data removed]",
      "text/plain": [
       "<Figure size 432x288 with 1 Axes>"
      ]
     },
     "metadata": {},
     "output_type": "display_data"
    }
   ],
   "source": [
    "# Plot training history\n",
    "from viz import plot_saved_model_acc_loss\n",
    "\n",
    "filename_best_finalModelHistory = 'saved_models/trainHistoryDict_LR_0005_neurons_128_drop_10_freeze_12'\n",
    "pickle_in = open(filename_best_finalModelHistory,\"rb\")\n",
    "best_finalModelHistory = pickle.load(pickle_in)\n",
    "plot_saved_model_acc_loss(best_finalModelHistory)"
   ]
  },
  {
   "cell_type": "code",
   "execution_count": 51,
   "metadata": {},
   "outputs": [
    {
     "name": "stdout",
     "output_type": "stream",
     "text": [
      "This model's F1-score is  0.8531914893617021\n"
     ]
    }
   ],
   "source": [
    "# Load the best model\n",
    "whichOptimizer = 1\n",
    "layersToKeep = 22\n",
    "VggLayersToFreeze = 12\n",
    "learnRate = 0.0005\n",
    "nDenseNeuron = 128\n",
    "dropout = 0.10\n",
    "bestfinalModel = aggregated_model(plantsImageSize,layersToKeep,VggLayersToFreeze,learnRate,nDenseNeuron,dropout,whichOptimizer)\n",
    "\n",
    "filename_best_topLayers = './saved_models/weights.best.finalModel_LR_0005_neuron_128_drop_10_freeze_12.hdf5'\n",
    "bestfinalModel.load_weights(filename_best_topLayers)\n",
    "\n",
    "# Make Predictions\n",
    "finalPredictions = predict_with_tensors(bestfinalModel, testData)\n",
    "\n",
    "# Determine F1-score\n",
    "modelF1Score = microaveraged_f1score(test_targets, finalPredictions)\n",
    "\n",
    "# Print to console\n",
    "print(\"This model's F1-score is \", modelF1Score)"
   ]
  }
 ],
 "metadata": {
  "anaconda-cloud": {},
  "kernelspec": {
   "display_name": "Python [default]",
   "language": "python",
   "name": "python3"
  },
  "language_info": {
   "codemirror_mode": {
    "name": "ipython",
    "version": 3
   },
   "file_extension": ".py",
   "mimetype": "text/x-python",
   "name": "python",
   "nbconvert_exporter": "python",
   "pygments_lexer": "ipython3",
   "version": "3.6.4"
  }
 },
 "nbformat": 4,
 "nbformat_minor": 2
}
