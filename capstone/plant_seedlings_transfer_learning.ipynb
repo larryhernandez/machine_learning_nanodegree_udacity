{
 "cells": [
  {
   "cell_type": "markdown",
   "metadata": {},
   "source": [
    "# Machine Learning Nanodegree\n",
    "\n",
    "## Transfer Learning for Image Classification\n",
    "\n",
    "## Capstone Project: Write an Algorithm to Classify Plant Seedlings\n",
    "\n",
    "\n",
    "### Motivation \n",
    "\n",
    "In this notebook, you will make the first steps towards developing an algorithm that could be used as part of a mobile or web app.  At the end of this project, your code will accept any user-supplied image as input.  If a dog is detected in the image, it will provide an estimate of the dog's breed.  If a human is detected, it will provide an estimate of the dog breed that is most resembling.  The image below displays potential sample output of your finished project (... but we expect that each student's algorithm will behave differently!). \n",
    "\n",
    "![Sample Plant Output](images/0bdaf1d8f.png)\n",
    "\n",
    "In this real-world setting, you will need to piece together a series of models to perform different tasks; for instance, the algorithm that detects humans in an image will be different from the CNN that infers dog breed.  There are many points of possible failure, and no perfect algorithm exists.  Your imperfect solution will nonetheless create a fun user experience!\n",
    "\n",
    "### The Road Ahead\n",
    "\n",
    "We break the notebook into separate steps.  Feel free to use the links below to navigate the notebook.\n",
    "\n",
    "* [Step 1](#step1): Import Datasets\n",
    "* [Step 2](#step2): Data Processing\n",
    "* [Step 3](#step3): Benchmark Model. A simple ConvNet made from scratch\n",
    "* [Step 4](#step4): Transfer Learning. Utilize Inception V3 to develop a ConvNet.\n",
    "* [Step 5](#step5): Final Model Evaluation\n",
    "\n",
    "---\n",
    "<a id='step1'></a>\n",
    "## Step 1: Import Datasets\n",
    "\n",
    "### Import Plant Dataset\n",
    "\n",
    "In the code cell below, a small dataset of plant images is imported.  A few variables are populated through the use of the `load_files` function from the scikit-learn library:\n",
    "- `train_files`, `valid_files`, `test_files` - numpy arrays containing file paths to images\n",
    "- `train_targets`, `valid_targets`, `test_targets` - numpy arrays containing onehot-encoded classification labels \n",
    "- `plant_names` - list of string-valued dog breed names for translating labels"
   ]
  },
  {
   "cell_type": "code",
   "execution_count": 1,
   "metadata": {},
   "outputs": [],
   "source": [
    "import sys\n",
    "sys.path.insert(0, 'auxiliary_functions')"
   ]
  },
  {
   "cell_type": "code",
   "execution_count": 13,
   "metadata": {},
   "outputs": [
    {
     "name": "stdout",
     "output_type": "stream",
     "text": [
      "There are 12 total plant categories.\n",
      "There are 4750 plant images.\n",
      "The plant names are: \n",
      "['Black-grass', 'Charlock', 'Cleavers', 'Common Chickweed', 'Common wheat', 'Fat Hen', 'Loose Silky-bent', 'Maize', 'Scentless Mayweed', 'Shepherds Purse', 'Small-flowered Cranesbill', 'Sugar beet']\n"
     ]
    }
   ],
   "source": [
    "from sklearn.datasets import load_files       \n",
    "from keras.utils import np_utils\n",
    "import numpy as np\n",
    "from glob import glob\n",
    "\n",
    "# define function to load the image data\n",
    "def load_dataset(path, numClasses = 12):\n",
    "    data = load_files(path)\n",
    "    plant_files = np.array(data['filenames'])\n",
    "    plant_targets = np_utils.to_categorical(np.array(data['target']), numClasses)\n",
    "    return plant_files, plant_targets\n",
    "\n",
    "# load the data\n",
    "numPlantClasses = 12\n",
    "plant_files, plant_targets = load_dataset('plantImages/fullDataSet', numPlantClasses)\n",
    "\n",
    "# load list of plant names\n",
    "plant_names = [item[24:-1] for item in sorted(glob(\"plantImages/fullDataSet/*/\"))]\n",
    "\n",
    "# Print basic statistics about the data set\n",
    "print('There are %d total plant categories.' % len(plant_names))\n",
    "print('There are %d plant images.' % len(plant_files))\n",
    "print('The plant names are: ')\n",
    "print(plant_names)"
   ]
  },
  {
   "cell_type": "markdown",
   "metadata": {},
   "source": [
    "<a id='step1'></a>\n",
    "## Step 1: Data Processing"
   ]
  },
  {
   "cell_type": "markdown",
   "metadata": {},
   "source": [
    "### Split the Images into Training and Test Sets"
   ]
  },
  {
   "cell_type": "code",
   "execution_count": 14,
   "metadata": {},
   "outputs": [
    {
     "name": "stdout",
     "output_type": "stream",
     "text": [
      "There are 3800 images for training and validation.\n",
      "There are 950 images for testing.\n",
      "\n",
      "There are 3800 training and validation targets.\n",
      "There are 950 test targets.\n"
     ]
    }
   ],
   "source": [
    "from sklearn.model_selection import train_test_split\n",
    "\n",
    "# Split plant_files into train_files, valid_files, and test_files. Write them to file\n",
    "randState = 0  # for reproducibility\n",
    "alltrain_files, test_files, alltrain_targets, test_targets = train_test_split(\n",
    "                                                                              plant_files, \n",
    "                                                                              plant_targets, \n",
    "                                                                              test_size = 0.20, \n",
    "                                                                              random_state = randState,\n",
    "                                                                              stratify = plant_targets)\n",
    "\n",
    "# Print basic statistics about the training and test sets\n",
    "print('There are %d images for training and validation.' % len(alltrain_files))\n",
    "print('There are %d images for testing.' % len(test_files))\n",
    "print ('')\n",
    "print('There are %d training and validation targets.' % len(alltrain_targets))\n",
    "print('There are %d test targets.' % len(test_targets))"
   ]
  },
  {
   "cell_type": "markdown",
   "metadata": {},
   "source": [
    "### Further split the Training Set into 'Train' and 'Validation'"
   ]
  },
  {
   "cell_type": "code",
   "execution_count": 15,
   "metadata": {},
   "outputs": [
    {
     "name": "stdout",
     "output_type": "stream",
     "text": [
      "There are 2850 images for training.\n",
      "There are 950 images for validation.\n",
      "There are 950 images for testing.\n",
      "\n",
      "There are 2850 training targets.\n",
      "There are 950 validation targets.\n",
      "There are 950 test targets.\n"
     ]
    }
   ],
   "source": [
    "# Split training into 'train' and 'validation'\n",
    "train_files, valid_files, train_targets, valid_targets = train_test_split(\n",
    "                                                                          alltrain_files, \n",
    "                                                                          alltrain_targets, \n",
    "                                                                          test_size = 0.25, \n",
    "                                                                          random_state = randState,\n",
    "                                                                          stratify = alltrain_targets)\n",
    "\n",
    "# Print basic statistics about the training and test sets\n",
    "print('There are %d images for training.' % len(train_files))\n",
    "print('There are %d images for validation.' % len(valid_files))\n",
    "print('There are %d images for testing.' % len(test_files))\n",
    "print ('')\n",
    "print('There are %d training targets.' % len(train_targets))\n",
    "print('There are %d validation targets.' % len(valid_targets))\n",
    "print('There are %d test targets.' % len(test_targets))"
   ]
  },
  {
   "cell_type": "markdown",
   "metadata": {},
   "source": [
    "### One Hot Encode the Plant Classes"
   ]
  },
  {
   "cell_type": "code",
   "execution_count": 18,
   "metadata": {},
   "outputs": [
    {
     "name": "stdout",
     "output_type": "stream",
     "text": [
      "[[ 1.  0.  0.  0.  0.  0.  0.  0.  0.  0.  0.  0.]\n",
      " [ 0.  1.  0.  0.  0.  0.  0.  0.  0.  0.  0.  0.]\n",
      " [ 0.  0.  1.  0.  0.  0.  0.  0.  0.  0.  0.  0.]\n",
      " [ 0.  0.  0.  1.  0.  0.  0.  0.  0.  0.  0.  0.]\n",
      " [ 0.  0.  0.  0.  1.  0.  0.  0.  0.  0.  0.  0.]\n",
      " [ 0.  0.  0.  0.  0.  1.  0.  0.  0.  0.  0.  0.]\n",
      " [ 0.  0.  0.  0.  0.  0.  1.  0.  0.  0.  0.  0.]\n",
      " [ 0.  0.  0.  0.  0.  0.  0.  1.  0.  0.  0.  0.]\n",
      " [ 0.  0.  0.  0.  0.  0.  0.  0.  1.  0.  0.  0.]\n",
      " [ 0.  0.  0.  0.  0.  0.  0.  0.  0.  1.  0.  0.]\n",
      " [ 0.  0.  0.  0.  0.  0.  0.  0.  0.  0.  1.  0.]\n",
      " [ 0.  0.  0.  0.  0.  0.  0.  0.  0.  0.  0.  1.]]\n"
     ]
    }
   ],
   "source": [
    "# Generate Identity matrix for one-hot encoding of classes\n",
    "plantCategories = np.zeros((numPlantClasses, numPlantClasses))\n",
    "for row in range(0,numPlantClasses):\n",
    "    plantCategories[row][row] = 1.\n",
    "\n",
    "# Print the one-hot encodings    \n",
    "print(plantCategories)"
   ]
  },
  {
   "cell_type": "markdown",
   "metadata": {},
   "source": [
    "### Visualize the class distribution of image data"
   ]
  },
  {
   "cell_type": "code",
   "execution_count": 5,
   "metadata": {},
   "outputs": [
    {
     "data": {
      "image/png": "[encoded data removed]",
      "text/plain": [
       "<matplotlib.figure.Figure at 0x4affc50>"
      ]
     },
     "metadata": {},
     "output_type": "display_data"
    }
   ],
   "source": [
    "from IPython.display import display, Image\n",
    "from viz import create_bar_chart\n",
    "\n",
    "# Config the matplotlib backend as plotting inline in IPython\n",
    "%matplotlib inline\n",
    "\n",
    "create_bar_chart(plant_targets, plantCategories, titleString = 'Class distribution for all images')"
   ]
  },
  {
   "cell_type": "markdown",
   "metadata": {},
   "source": [
    "### Class Distribution of Train Set"
   ]
  },
  {
   "cell_type": "code",
   "execution_count": 8,
   "metadata": {},
   "outputs": [
    {
     "data": {
      "image/png": "[encoded data removed]",
      "text/plain": [
       "<matplotlib.figure.Figure at 0xbfaa438>"
      ]
     },
     "metadata": {},
     "output_type": "display_data"
    }
   ],
   "source": [
    "create_bar_chart(train_targets, plantCategories, titleString = 'Distr. of Training Set (excludes Validation)')"
   ]
  },
  {
   "cell_type": "markdown",
   "metadata": {},
   "source": [
    "### Class Distribution of Validation Set"
   ]
  },
  {
   "cell_type": "code",
   "execution_count": 10,
   "metadata": {},
   "outputs": [
    {
     "data": {
      "image/png": "[encoded data removed]",
      "text/plain": [
       "<matplotlib.figure.Figure at 0xbf204a8>"
      ]
     },
     "metadata": {},
     "output_type": "display_data"
    }
   ],
   "source": [
    "create_bar_chart(valid_targets, plantCategories, titleString = 'Distribution of Validation Set')"
   ]
  },
  {
   "cell_type": "markdown",
   "metadata": {},
   "source": [
    "### Class Distribution of Test Set"
   ]
  },
  {
   "cell_type": "code",
   "execution_count": 11,
   "metadata": {},
   "outputs": [
    {
     "data": {
      "image/png": "[encoded data removed]",
      "text/plain": [
       "<matplotlib.figure.Figure at 0xc111780>"
      ]
     },
     "metadata": {},
     "output_type": "display_data"
    }
   ],
   "source": [
    "create_bar_chart(test_targets, plantCategories, titleString = 'Distribution of Test Set')"
   ]
  },
  {
   "cell_type": "markdown",
   "metadata": {},
   "source": [
    "### Image Pre-processing for the home-made CNN\n",
    "\n",
    "Rescale the images by dividing every pixel in every image by 255. First a couple of helpful functions are defined to convert images into tensors:"
   ]
  },
  {
   "cell_type": "code",
   "execution_count": 12,
   "metadata": {
    "collapsed": true
   },
   "outputs": [],
   "source": [
    "from keras.preprocessing import image                  \n",
    "from tqdm import tqdm\n",
    "\n",
    "# These functions are borrowed from the following Udacity repo:\n",
    "#\n",
    "def path_to_tensor(img_path, targetImageSize):\n",
    "    # loads RGB image as PIL.Image.Image type\n",
    "    img = image.load_img(img_path, target_size=(targetImageSize, targetImageSize))\n",
    "    # convert PIL.Image.Image type to 3D tensor with shape (224, 224, 3)\n",
    "    x = image.img_to_array(img)\n",
    "    # convert 3D tensor to 4D tensor with shape (1, 224, 224, 3) and return 4D tensor\n",
    "    return np.expand_dims(x, axis=0)\n",
    "\n",
    "def paths_to_tensor(img_paths, targetImageSize):\n",
    "    list_of_tensors = [path_to_tensor(img_path, targetImageSize) for img_path in tqdm(img_paths)]\n",
    "    return np.vstack(list_of_tensors)"
   ]
  },
  {
   "cell_type": "markdown",
   "metadata": {},
   "source": [
    "The scaling and tensor conversion is performed in the next code cell:"
   ]
  },
  {
   "cell_type": "code",
   "execution_count": 13,
   "metadata": {},
   "outputs": [
    {
     "name": "stderr",
     "output_type": "stream",
     "text": [
      "100%|██████████████████████████████████████| 2850/2850 [02:54<00:00, 16.19it/s]\n",
      "100%|████████████████████████████████████████| 950/950 [04:14<00:00,  9.43it/s]\n",
      "100%|████████████████████████████████████████| 950/950 [01:13<00:00, 15.88it/s]\n"
     ]
    }
   ],
   "source": [
    "from PIL import ImageFile\n",
    "ImageFile.LOAD_TRUNCATED_IMAGES = True                 \n",
    "\n",
    "NORMALIZATION_FACTOR = 255\n",
    "plantsImageSize = 224\n",
    "\n",
    "# pre-process the data for Keras\n",
    "train_tensors = paths_to_tensor(train_files, plantsImageSize).astype('float32')/NORMALIZATION_FACTOR\n",
    "valid_tensors = paths_to_tensor(valid_files, plantsImageSize).astype('float32')/NORMALIZATION_FACTOR\n",
    "test_tensors = paths_to_tensor(test_files, plantsImageSize).astype('float32')/NORMALIZATION_FACTOR"
   ]
  },
  {
   "cell_type": "markdown",
   "metadata": {},
   "source": [
    "---\n",
    "<a id='step2'></a>\n",
    "## Step 2: Benchmark Model. A simple ConvNet made from scratch\n"
   ]
  },
  {
   "cell_type": "markdown",
   "metadata": {},
   "source": [
    "### Compile and Train Benchmark CNN\n",
    "\n",
    "Here I create a CNN from scratch. The model is compiled and trained in the code cells below. Model checkpointing is used to save the model that attains the best validation loss. The model achieves a ??? % classification rate, which is slightly better than random guessing. It also earns an F1-score of ??."
   ]
  },
  {
   "cell_type": "code",
   "execution_count": 14,
   "metadata": {},
   "outputs": [
    {
     "name": "stdout",
     "output_type": "stream",
     "text": [
      "_________________________________________________________________\n",
      "Layer (type)                 Output Shape              Param #   \n",
      "=================================================================\n",
      "conv2d_1 (Conv2D)            (None, 224, 224, 16)      208       \n",
      "_________________________________________________________________\n",
      "conv2d_2 (Conv2D)            (None, 224, 224, 16)      1040      \n",
      "_________________________________________________________________\n",
      "max_pooling2d_1 (MaxPooling2 (None, 112, 112, 16)      0         \n",
      "_________________________________________________________________\n",
      "conv2d_3 (Conv2D)            (None, 112, 112, 32)      2080      \n",
      "_________________________________________________________________\n",
      "conv2d_4 (Conv2D)            (None, 112, 112, 32)      4128      \n",
      "_________________________________________________________________\n",
      "dropout_1 (Dropout)          (None, 112, 112, 32)      0         \n",
      "_________________________________________________________________\n",
      "max_pooling2d_2 (MaxPooling2 (None, 56, 56, 32)        0         \n",
      "_________________________________________________________________\n",
      "conv2d_5 (Conv2D)            (None, 56, 56, 64)        8256      \n",
      "_________________________________________________________________\n",
      "conv2d_6 (Conv2D)            (None, 56, 56, 64)        16448     \n",
      "_________________________________________________________________\n",
      "dropout_2 (Dropout)          (None, 56, 56, 64)        0         \n",
      "_________________________________________________________________\n",
      "max_pooling2d_3 (MaxPooling2 (None, 28, 28, 64)        0         \n",
      "_________________________________________________________________\n",
      "flatten_1 (Flatten)          (None, 50176)             0         \n",
      "_________________________________________________________________\n",
      "dense_1 (Dense)              (None, 500)               25088500  \n",
      "_________________________________________________________________\n",
      "dense_2 (Dense)              (None, 12)                6012      \n",
      "=================================================================\n",
      "Total params: 25,126,672.0\n",
      "Trainable params: 25,126,672.0\n",
      "Non-trainable params: 0.0\n",
      "_________________________________________________________________\n"
     ]
    }
   ],
   "source": [
    "from keras.wrappers.scikit_learn import KerasClassifier\n",
    "from keras.layers import Conv2D, MaxPooling2D, GlobalAveragePooling2D\n",
    "from keras.layers import Dropout, Flatten, Dense\n",
    "from keras.models import Sequential\n",
    "from keras.callbacks import Callback, ModelCheckpoint\n",
    "from modelGen import create_benchmark_CNN\n",
    "from project_metrics import Metrics\n",
    "\n",
    "# Import user-defined class to compute f1-score, precision, recall\n",
    "thisProjectsMetrics = Metrics()\n",
    "\n",
    "# See modelGen.py for definition of create_benchmark_CNN\n",
    "benchmark = KerasClassifier(build_fn = create_benchmark_CNN, epochs = 50, batch_size = 20)\n",
    "benchmark.summary()\n",
    "\n",
    "# Define GridSearchCV parameters\n",
    "neuronOptions = [1000 500 250 125 62 32]\n",
    "dropOut =  [[0.1 0.2 0.3 0.4 0.5], [0.1 0.2 0.3 0.4 0.5]]\n",
    "\n",
    "# Place grid search params into dictionary\n",
    "paramGrid = dict(neurons = neuronOptions, drop_out = dropOut)\n",
    "\n",
    "grid = GridSearchCV(estimator = benchmark, param_grid = paramGrid, n_jobs=-1)\n",
    "\n",
    "# Define checkpointer\n",
    "checkpointer = ModelCheckpoint(filepath='saved_models/weights.best.from_scratch.hdf5', \n",
    "                               verbose=1, \n",
    "                               save_best_only=True)\n",
    "\n",
    "# Train the model\n",
    "grid_result = grid.fit(train_tensors, \n",
    "                       train_targets, \n",
    "                       validation_data=(valid_tensors, valid_targets),\n",
    "                       epochs = nEpochs, \n",
    "                       batch_size = batchSize, \n",
    "                       callbacks = [checkpointer, thisProjectsMetrics], \n",
    "                       verbose=1)\n",
    "\n",
    "### Do NOT modify the code below this line.\n",
    "# Model checkpoint and fitting\n",
    "#checkpointer = ModelCheckpoint(filepath='saved_models/weights.best.from_scratch.hdf5', \n",
    "#                               verbose=1, \n",
    "#                               save_best_only=True)\n",
    "\n",
    "#simpleCNN.fit(train_tensors, \n",
    "#              train_targets, \n",
    "#              validation_data=(valid_tensors, valid_targets),\n",
    "#              epochs = nEpochs, \n",
    "#              batch_size = batchSize, \n",
    "#              callbacks = [checkpointer, thisProjectsMetrics], \n",
    "#              verbose=1)"
   ]
  },
  {
   "cell_type": "markdown",
   "metadata": {},
   "source": [
    "### Test the Benchmark Model\n",
    "\n",
    "The benchmark CNN is evaluated on the test dataset of plant seedlings images. The test accuracy is 72.8%. This is greater than 8.33%, which is the accuracy rate for random guessing. The F1-score on the test set is ???"
   ]
  },
  {
   "cell_type": "code",
   "execution_count": 1,
   "metadata": {},
   "outputs": [
    {
     "ename": "ImportError",
     "evalue": "No module named 'custom_metrics'",
     "output_type": "error",
     "traceback": [
      "\u001b[1;31m---------------------------------------------------------------------------\u001b[0m",
      "\u001b[1;31mImportError\u001b[0m                               Traceback (most recent call last)",
      "\u001b[1;32m<ipython-input-1-27dc675c97f9>\u001b[0m in \u001b[0;36m<module>\u001b[1;34m()\u001b[0m\n\u001b[0;32m      1\u001b[0m \u001b[1;31m### Extend f1_score for tensors\u001b[0m\u001b[1;33m\u001b[0m\u001b[1;33m\u001b[0m\u001b[0m\n\u001b[1;32m----> 2\u001b[1;33m \u001b[1;32mfrom\u001b[0m \u001b[0mcustom_metrics\u001b[0m \u001b[1;32mimport\u001b[0m \u001b[0mmicroaveraged_f1score\u001b[0m\u001b[1;33m\u001b[0m\u001b[0m\n\u001b[0m\u001b[0;32m      3\u001b[0m \u001b[1;33m\u001b[0m\u001b[0m\n\u001b[0;32m      4\u001b[0m \u001b[1;31m# Load the weights yielding the best validation loss\u001b[0m\u001b[1;33m\u001b[0m\u001b[1;33m\u001b[0m\u001b[0m\n\u001b[0;32m      5\u001b[0m \u001b[0mbenchmark\u001b[0m\u001b[1;33m.\u001b[0m\u001b[0mload_weights\u001b[0m\u001b[1;33m(\u001b[0m\u001b[1;34m'saved_models/weights.best.from_scratch.hdf5'\u001b[0m\u001b[1;33m)\u001b[0m\u001b[1;33m\u001b[0m\u001b[0m\n",
      "\u001b[1;31mImportError\u001b[0m: No module named 'custom_metrics'"
     ]
    }
   ],
   "source": [
    "# Extends the f1_score to tensor inputs\n",
    "from project_metrics import microaveraged_f1score\n",
    "\n",
    "# Load the weights yielding the best validation loss\n",
    "benchmark.load_weights('saved_models/weights.best.from_scratch.hdf5')\n",
    "\n",
    "# Make predictions with Test Set\n",
    "#predictionsWithBenchmark = [benchmark.predict(np.expand_dims(tensor, axis=0)) for tensor in test_tensors]\n",
    "predictionsWithBenchmark = predict_with_tensors(benchmark, test_tensors)\n",
    "\n",
    "# Determine F1-score\n",
    "F1ScoreBenchmark = microaveraged_f1score(test_targets, predictionsWithBenchmark)\n",
    "# RecallBenchmark =  recall_score(test_targets, predictionsWithBenchmark)\n",
    "# PrecisionBenchmark = precision_score(test_targets, predictionsWithBenchmark)\n",
    "\n",
    "# Print F1-score to console\n",
    "print(\"This model's F1-score is \", F1ScoreBenchmark)\n",
    "# print(\"This model's recall is \", RecallBenchmark)\n",
    "# print(\"This model's precision is \", PrecisionBenchmark)"
   ]
  },
  {
   "cell_type": "markdown",
   "metadata": {},
   "source": [
    "---\n",
    "<a id='step3'></a>\n",
    "## Step 3: Transfer Learning. Utilize Inception V3 to develop a ConvNet.\n",
    "\n",
    "In this section transfer learning will be used to train a CNN. The goal is to take advantage of Inception V3, a pre-trained CNN that has already been trained on ImageNet, a standard computer vision that contains images of both natural and man-made objects. None of the categories of the ImageNet database include plants, so this application of transfer learning will rely on the general features that Inception V3 has extracted from ImageNet."
   ]
  },
  {
   "cell_type": "markdown",
   "metadata": {},
   "source": [
    "### Load Inception V3, peel away some layers, and train"
   ]
  },
  {
   "cell_type": "code",
   "execution_count": null,
   "metadata": {
    "collapsed": true
   },
   "outputs": [],
   "source": [
    "from modelGen import load_pretrain_CNN, generate_bottleneck_features, create_top_model\n",
    "from modelGen import fully_connected_toplayer\n",
    "\n",
    "# Import a pre-trained Convolutional Neural Network trained on ImageNet\n",
    "model = load_pretrain_CNN(modelName = 'InceptionV3', imageSize = plantsImageSize, layers_to_keep = 12)\n",
    "model.summary()"
   ]
  },
  {
   "cell_type": "code",
   "execution_count": 5,
   "metadata": {},
   "outputs": [
    {
     "name": "stdout",
     "output_type": "stream",
     "text": [
      "____________________________________________________________________________________________________\n",
      "Layer (type)                     Output Shape          Param #     Connected to                     \n",
      "====================================================================================================\n",
      "input_2 (InputLayer)             (None, 224, 224, 3)   0                                            \n",
      "____________________________________________________________________________________________________\n",
      "conv2d_95 (Conv2D)               (None, 111, 111, 32)  864                                          \n",
      "____________________________________________________________________________________________________\n",
      "batch_normalization_95 (BatchNor (None, 111, 111, 32)  96                                           \n",
      "____________________________________________________________________________________________________\n",
      "activation_95 (Activation)       (None, 111, 111, 32)  0                                            \n",
      "____________________________________________________________________________________________________\n",
      "conv2d_96 (Conv2D)               (None, 109, 109, 32)  9216                                         \n",
      "____________________________________________________________________________________________________\n",
      "batch_normalization_96 (BatchNor (None, 109, 109, 32)  96                                           \n",
      "____________________________________________________________________________________________________\n",
      "activation_96 (Activation)       (None, 109, 109, 32)  0                                            \n",
      "____________________________________________________________________________________________________\n",
      "conv2d_97 (Conv2D)               (None, 109, 109, 64)  18432                                        \n",
      "____________________________________________________________________________________________________\n",
      "batch_normalization_97 (BatchNor (None, 109, 109, 64)  192                                          \n",
      "____________________________________________________________________________________________________\n",
      "activation_97 (Activation)       (None, 109, 109, 64)  0                                            \n",
      "____________________________________________________________________________________________________\n",
      "max_pooling2d_5 (MaxPooling2D)   (None, 54, 54, 64)    0                                            \n",
      "____________________________________________________________________________________________________\n",
      "conv2d_98 (Conv2D)               (None, 54, 54, 80)    5120                                         \n",
      "====================================================================================================\n",
      "Total params: 34,016.0\n",
      "Trainable params: 33,760.0\n",
      "Non-trainable params: 256.0\n",
      "____________________________________________________________________________________________________\n"
     ]
    }
   ],
   "source": [
    "# Use Image Generator to generate bottleneck features with Inception model\n",
    "bottleneck_train, bottleneck_valid = generate_bottleneck_features(model, \n",
    "                                                                  x_train, \n",
    "                                                                  y_train, \n",
    "                                                                  x_valid, \n",
    "                                                                  y_valid, \n",
    "                                                                  imageSize = plantsImageSize, \n",
    "                                                                  batchSize = 32)\n",
    "\n",
    "# Load a fully connected network and train it with the bottleneck features\n",
    "batchSizes = [15 25 35]\n",
    "nEpochs = [25 50 75 100]\n",
    "topLayers = KerasClassifier(build_fn = fully_connected_toplayer, epochs=nEpochs, batch_size=batchSizes, verbose=0)\n",
    "\n",
    "#topLayers = fully_connected_toplayer(model.output_shape[1:], \n",
    "#                                     learningRate = 0.001, \n",
    "#                                     beta1 = 0.9, \n",
    "#                                     beta2 = 0.999)\n",
    "\n",
    "# Set parameters for training\n",
    "filepath_best_topLayers = 'saved_models/weights.best.topLayers.hdf5'\n",
    "checkpointer = ModelCheckpoint(filepath = filepath_best_topLayers, verbose=1, save_best_only=True)\n",
    "\n",
    "# define the grid search parameters\n",
    "learnRates = [0.001, 0.01, 0.1, 1.0]\n",
    "beta1Vals = [0.85, 0.90, 0.95, 0.99]\n",
    "beta2Vals = [0.999, 0.975, 0.950, 0.925]\n",
    "param_grid = dict(learn_rate = learnRates, beta_1 = beta1Vals, beta_2 = beta2Vals)\n",
    "grid = GridSearchCV(estimator=model, param_grid=param_grid, n_jobs=-1)\n",
    "\n",
    "# Train the top model\n",
    "#nEpochs = 50\n",
    "#batchSize = 32\n",
    "#topLayers_history = topLayers.fit(bottleneck_train, \n",
    "#                                train_targets, \n",
    "#                                validation_data = (bottleneck_valid, valid_targets),\n",
    "#                                epochs = nEpochs, \n",
    "#                                batch_size = batchSize, \n",
    "#                                callbacks = [checkpointer, thisProjectsMetrics], \n",
    "#                                verbose=1)"
   ]
  },
  {
   "cell_type": "markdown",
   "metadata": {},
   "source": [
    "### Plot Training & Validation Results"
   ]
  },
  {
   "cell_type": "code",
   "execution_count": null,
   "metadata": {
    "collapsed": true
   },
   "outputs": [],
   "source": [
    "# list all data in history\n",
    "print(topLayers_history.history.keys())"
   ]
  },
  {
   "cell_type": "code",
   "execution_count": null,
   "metadata": {
    "collapsed": true
   },
   "outputs": [],
   "source": [
    "plot_model_acc_loss(topLayers_history)"
   ]
  },
  {
   "cell_type": "markdown",
   "metadata": {},
   "source": [
    "### Combine trained top model with (reduced) Inception V3"
   ]
  },
  {
   "cell_type": "code",
   "execution_count": null,
   "metadata": {
    "collapsed": true
   },
   "outputs": [],
   "source": [
    "from modelGen import fully_connected_fine_tuning\n",
    "\n",
    "# Load the model weights with the best validation loss.\n",
    "topLayers = fully_connected_fine_tuning(InputShape = topLayers.output_shape[1:])\n",
    "topLayers.load_weights(filepath_best_topLayers)\n",
    "\n",
    "# Combine the Inception base model with the trained top model\n",
    "model.add(topLayers)\n",
    "\n",
    "numLayersToFreeze = 9\n",
    "\n",
    "# Freeze several layers of weights of base model\n",
    "for layer in model.layers[:numLayersToFreeze]\n",
    "    layer.trainable = False"
   ]
  },
  {
   "cell_type": "markdown",
   "metadata": {},
   "source": [
    "### Train the entire network"
   ]
  },
  {
   "cell_type": "code",
   "execution_count": null,
   "metadata": {
    "collapsed": true
   },
   "outputs": [],
   "source": [
    "from keras import optimizers\n",
    "\n",
    "# Compile the combined model\n",
    "model.compile(loss = 'categorical_crossentropy', \n",
    "              optimizer = optimizers.SGD(lr=1e-4, momentum=0.9), \n",
    "              metrics = ['accuracy'])\n",
    "\n",
    "# Train the combined model, again using image augmentation\n",
    "batchSize = 32\n",
    "\n",
    "# Prepare data augmentation configuration\n",
    "train_datagen = ImageDataGenerator(rescale = 1./255,\n",
    "                                   shear_range = 0.2,\n",
    "                                   zoom_range = 0.2,\n",
    "                                   horizontal_flip = True)\n",
    "\n",
    "test_datagen = ImageDataGenerator(rescale = 1./255)\n",
    "\n",
    "train_generator = train_datagen.flow(train_data_dir,\n",
    "                                     target_size = (plantsImageSize, plantsImageSize),\n",
    "                                     batch_size = batchSize,\n",
    "                                     shuffle = False,\n",
    "                                     seed = 0,\n",
    "                                     class_mode='None')\n",
    "\n",
    "\n",
    "validation_generator = test_datagen.flow(validation_data_dir,\n",
    "                                         target_size = (img_height, img_width),\n",
    "                                         batch_size = batchSize,\n",
    "                                         shuffle = False,\n",
    "                                         seed = 0,\n",
    "                                         class_mode = 'None')\n",
    "\n",
    "# fine-tune the combined model\n",
    "filepath_best_combinedModel = 'saved_models/weights.best.combinedModel.hdf5'\n",
    "checkpointer = ModelCheckpoint(filepath = filepath_best_combinedModel, verbose=1, save_best_only=True)\n",
    "\n",
    "model_History = model.fit_generator(train_generator,\n",
    "                                    steps_per_epoch = nb_train_samples // batchSize,\n",
    "                                    epochs = Nepochs,\n",
    "                                    validation_data = validation_generator,\n",
    "                                    validation_steps = nb_validation_samples // batchSize,\n",
    "                                    callbacks = [checkpointer, thisProjectsMetrics])"
   ]
  },
  {
   "cell_type": "markdown",
   "metadata": {},
   "source": [
    "### Plot Evaluation Metrics"
   ]
  },
  {
   "cell_type": "code",
   "execution_count": null,
   "metadata": {
    "collapsed": true
   },
   "outputs": [],
   "source": [
    "plot_model_acc_loss(model_History)"
   ]
  },
  {
   "cell_type": "markdown",
   "metadata": {},
   "source": [
    "<a id='step4'></a>\n",
    "## Step 4: Final Model Evaluation"
   ]
  },
  {
   "cell_type": "code",
   "execution_count": null,
   "metadata": {
    "collapsed": true
   },
   "outputs": [],
   "source": [
    "# Make Predictions\n",
    "finalPredictions = predict_with_tensors(model, test_tensors):\n",
    "\n",
    "# Determine F1-score\n",
    "modelF1Score = microaveraged_f1score(test_targets, finalPredictions)\n",
    "\n",
    "# Print to console\n",
    "print(\"This model's F1-score is \", modelF1Score)"
   ]
  }
 ],
 "metadata": {
  "anaconda-cloud": {},
  "kernelspec": {
   "display_name": "Python 3",
   "language": "python",
   "name": "python3"
  },
  "language_info": {
   "codemirror_mode": {
    "name": "ipython",
    "version": 3
   },
   "file_extension": ".py",
   "mimetype": "text/x-python",
   "name": "python",
   "nbconvert_exporter": "python",
   "pygments_lexer": "ipython3",
   "version": "3.5.2"
  }
 },
 "nbformat": 4,
 "nbformat_minor": 2
}
